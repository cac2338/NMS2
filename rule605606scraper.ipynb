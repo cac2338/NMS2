{
 "cells": [
  {
   "cell_type": "code",
   "execution_count": 27,
   "metadata": {},
   "outputs": [],
   "source": [
    "from selenium import webdriver\n",
    "from selenium.webdriver.common.by import By\n",
    "from selenium.webdriver.common.keys import Keys\n",
    "from selenium.webdriver.support.ui import WebDriverWait\n",
    "from selenium.webdriver.support import expected_conditions as EC\n",
    "\n",
    "import pandas as pd\n",
    "import numpy as np\n",
    "import re as re\n",
    "import bs4 as BeautifulSoup\n",
    "\n",
    "import csv\n",
    "import requests\n",
    "import xml.etree as ET\n",
    "import xmltodict\n",
    "\n",
    "from datetime import datetime\n",
    "import time\n",
    "import os"
   ]
  },
  {
   "cell_type": "code",
   "execution_count": 31,
   "metadata": {},
   "outputs": [
    {
     "name": "stderr",
     "output_type": "stream",
     "text": [
      "C:\\Users\\charl\\AppData\\Local\\Packages\\PythonSoftwareFoundation.Python.3.12_qbz5n2kfra8p0\\LocalCache\\local-packages\\Python312\\site-packages\\bs4\\builder\\__init__.py:545: XMLParsedAsHTMLWarning: It looks like you're parsing an XML document using an HTML parser. If this really is an HTML document (maybe it's XHTML?), you can ignore or filter this warning. If it's XML, you should know that using an XML parser will be more reliable. To parse this document as XML, make sure you have the lxml package installed, and pass the keyword argument `features=\"xml\"` into the BeautifulSoup constructor.\n",
      "  warnings.warn(\n"
     ]
    }
   ],
   "source": [
    "url = \"https://virtu-www.s3.us-east-1.amazonaws.com/uploads/documents/606-VIRT-2023Q2.xml\"\n",
    "response = requests.get(url)\n",
    "#data = ET.parse(response.content)\n",
    "file = bs4.BeautifulSoup(response.text, 'lxml')"
   ]
  },
  {
   "cell_type": "code",
   "execution_count": 26,
   "metadata": {},
   "outputs": [
    {
     "ename": "IndexError",
     "evalue": "list index out of range",
     "output_type": "error",
     "traceback": [
      "\u001b[1;31m---------------------------------------------------------------------------\u001b[0m",
      "\u001b[1;31mIndexError\u001b[0m                                Traceback (most recent call last)",
      "Cell \u001b[1;32mIn[26], line 14\u001b[0m\n\u001b[0;32m     11\u001b[0m data \u001b[38;5;241m=\u001b[39m [] \n\u001b[0;32m     12\u001b[0m \u001b[38;5;28;01mfor\u001b[39;00m i \u001b[38;5;129;01min\u001b[39;00m \u001b[38;5;28mrange\u001b[39m(\u001b[38;5;28mlen\u001b[39m(monthly)): \n\u001b[1;32m---> 14\u001b[0m    rows \u001b[38;5;241m=\u001b[39m [year[i]\u001b[38;5;241m.\u001b[39mget_text(), month[i]\u001b[38;5;241m.\u001b[39mget_text(), \u001b[43msp500\u001b[49m\u001b[43m[\u001b[49m\u001b[43mi\u001b[49m\u001b[43m]\u001b[49m\u001b[38;5;241m.\u001b[39mget_text()] \n\u001b[0;32m     16\u001b[0m    data\u001b[38;5;241m.\u001b[39mappend(rows)\n\u001b[0;32m     18\u001b[0m data \u001b[38;5;241m=\u001b[39m pd\u001b[38;5;241m.\u001b[39mDataFrame(data)\n",
      "\u001b[1;31mIndexError\u001b[0m: list index out of range"
     ]
    }
   ],
   "source": [
    "monthly = file.find_all('rmonthly')\n",
    "year = file.find_all('year')\n",
    "month = file.find_all('mon')\n",
    "sp500 = file.find_all('rSP500')\n",
    "c1 = file.find_all('ndoPct')\n",
    "c2 = file.find_all('ndoMarketPct')\n",
    "c3 = file.find_all('ndoMarketableLimitPct')\n",
    "c4 = file.find_all('ndoNonmarketableLimitPct')\n",
    "c5 = file.find_all('ndoOtherPct')\n",
    "\n",
    "data = [] \n",
    "for i in range(len(monthly)): \n",
    "   \n",
    "   rows = [year[i].get_text(), month[i].get_text()] \n",
    "            \n",
    "   data.append(rows)\n",
    "\n",
    "data = pd.DataFrame(data)\n",
    "data.head()"
   ]
  },
  {
   "cell_type": "code",
   "execution_count": 30,
   "metadata": {},
   "outputs": [
    {
     "ename": "TypeError",
     "evalue": "'NoneType' object is not callable",
     "output_type": "error",
     "traceback": [
      "\u001b[1;31m---------------------------------------------------------------------------\u001b[0m",
      "\u001b[1;31mTypeError\u001b[0m                                 Traceback (most recent call last)",
      "Cell \u001b[1;32mIn[30], line 1\u001b[0m\n\u001b[1;32m----> 1\u001b[0m getpage_soup\u001b[38;5;241m=\u001b[39m BeautifulSoup(\u001b[43mfile\u001b[49m\u001b[38;5;241;43m.\u001b[39;49m\u001b[43mread\u001b[49m\u001b[43m(\u001b[49m\u001b[43m)\u001b[49m, \u001b[38;5;124m'\u001b[39m\u001b[38;5;124mlxml\u001b[39m\u001b[38;5;124m'\u001b[39m)\n\u001b[0;32m      2\u001b[0m \u001b[38;5;28mprint\u001b[39m(getpage)\n\u001b[0;32m      3\u001b[0m all_id_para1\u001b[38;5;241m=\u001b[39m getpage_soup\u001b[38;5;241m.\u001b[39mfindAll(\u001b[38;5;124m'\u001b[39m\u001b[38;5;124mrMonthly\u001b[39m\u001b[38;5;124m'\u001b[39m)\n",
      "\u001b[1;31mTypeError\u001b[0m: 'NoneType' object is not callable"
     ]
    }
   ],
   "source": [
    "getpage_soup= BeautifulSoup(file.read(), 'lxml')\n",
    "print(getpage)\n",
    "all_id_para1= getpage_soup.findAll('rMonthly')\n",
    "#print(all_id_para1)\n",
    "#all_id_para2= getpage_soup.findAll('div', {'class': 'CompaniesTable-module-tr-180v5'})  \n",
    "#print(all_id_para2)\n",
    "#for (para, para2) in zip(all_id_para1, all_id_para2):\n",
    "#        name = para.find('span').find('span').text\n",
    "#        url = para.find('a')['href']\n",
    "#        cid = '' if not para2.has_attr('data-company-id') else para2['data-company-id']\n",
    "#        companies.loc[len(companies)] = [name, url, cid]"
   ]
  },
  {
   "cell_type": "code",
   "execution_count": 9,
   "metadata": {},
   "outputs": [
    {
     "data": {
      "text/html": [
       "<div>\n",
       "<style scoped>\n",
       "    .dataframe tbody tr th:only-of-type {\n",
       "        vertical-align: middle;\n",
       "    }\n",
       "\n",
       "    .dataframe tbody tr th {\n",
       "        vertical-align: top;\n",
       "    }\n",
       "\n",
       "    .dataframe thead th {\n",
       "        text-align: right;\n",
       "    }\n",
       "</style>\n",
       "<table border=\"1\" class=\"dataframe\">\n",
       "  <thead>\n",
       "    <tr style=\"text-align: right;\">\n",
       "      <th></th>\n",
       "      <th>heldOrderRoutingPublicReport</th>\n",
       "    </tr>\n",
       "  </thead>\n",
       "  <tbody>\n",
       "    <tr>\n",
       "      <th>@xmlns:xsi</th>\n",
       "      <td>http://www.w3.org/2001/XMLSchema-instance</td>\n",
       "    </tr>\n",
       "    <tr>\n",
       "      <th>@xsi:noNamespaceSchemaLocation</th>\n",
       "      <td>oh-20191231.xsd</td>\n",
       "    </tr>\n",
       "    <tr>\n",
       "      <th>bd</th>\n",
       "      <td>Virtu Americas LLC</td>\n",
       "    </tr>\n",
       "    <tr>\n",
       "      <th>qtr</th>\n",
       "      <td>2</td>\n",
       "    </tr>\n",
       "    <tr>\n",
       "      <th>rMonthly</th>\n",
       "      <td>[{'year': '2023', 'mon': '04', 'rSP500': {'ndo...</td>\n",
       "    </tr>\n",
       "    <tr>\n",
       "      <th>timestamp</th>\n",
       "      <td>2023-07-23T16:12:07Z</td>\n",
       "    </tr>\n",
       "    <tr>\n",
       "      <th>version</th>\n",
       "      <td>1.3</td>\n",
       "    </tr>\n",
       "    <tr>\n",
       "      <th>year</th>\n",
       "      <td>2023</td>\n",
       "    </tr>\n",
       "  </tbody>\n",
       "</table>\n",
       "</div>"
      ],
      "text/plain": [
       "                                                     heldOrderRoutingPublicReport\n",
       "@xmlns:xsi                              http://www.w3.org/2001/XMLSchema-instance\n",
       "@xsi:noNamespaceSchemaLocation                                    oh-20191231.xsd\n",
       "bd                                                             Virtu Americas LLC\n",
       "qtr                                                                             2\n",
       "rMonthly                        [{'year': '2023', 'mon': '04', 'rSP500': {'ndo...\n",
       "timestamp                                                    2023-07-23T16:12:07Z\n",
       "version                                                                       1.3\n",
       "year                                                                         2023"
      ]
     },
     "execution_count": 9,
     "metadata": {},
     "output_type": "execute_result"
    }
   ],
   "source": [
    "data.T\n",
    "data.head(10)\n"
   ]
  }
 ],
 "metadata": {
  "kernelspec": {
   "display_name": "Python 3",
   "language": "python",
   "name": "python3"
  },
  "language_info": {
   "codemirror_mode": {
    "name": "ipython",
    "version": 3
   },
   "file_extension": ".py",
   "mimetype": "text/x-python",
   "name": "python",
   "nbconvert_exporter": "python",
   "pygments_lexer": "ipython3",
   "version": "3.12.2"
  }
 },
 "nbformat": 4,
 "nbformat_minor": 2
}
